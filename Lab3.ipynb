{
  "nbformat": 4,
  "nbformat_minor": 0,
  "metadata": {
    "colab": {
      "provenance": [],
      "authorship_tag": "ABX9TyOGjCLJGepmnu3Qz7pmeEtL",
      "include_colab_link": true
    },
    "kernelspec": {
      "name": "python3",
      "display_name": "Python 3"
    },
    "language_info": {
      "name": "python"
    }
  },
  "cells": [
    {
      "cell_type": "markdown",
      "metadata": {
        "id": "view-in-github",
        "colab_type": "text"
      },
      "source": [
        "<a href=\"https://colab.research.google.com/github/Cereha/Statistical-methods-of-recognition/blob/main/Lab3.ipynb\" target=\"_parent\"><img src=\"https://colab.research.google.com/assets/colab-badge.svg\" alt=\"Open In Colab\"/></a>"
      ]
    },
    {
      "cell_type": "code",
      "execution_count": 1,
      "metadata": {
        "id": "yjcUM8TGLNNk"
      },
      "outputs": [],
      "source": [
        "import numpy as np\n",
        "import scipy.stats as stats"
      ]
    },
    {
      "cell_type": "code",
      "source": [
        "# Функція генератор\n",
        "def generate_data(n, P_k1, P_k2, a1, a2, sigma):\n",
        "    data = np.zeros(n)\n",
        "    states = np.random.choice([1, 2], size=n, p=[P_k1, P_k2])\n",
        "\n",
        "    for i, state in enumerate(states):\n",
        "        if state == 1:\n",
        "            data[i] = np.random.normal(loc=a1, scale=sigma)\n",
        "        else:\n",
        "            data[i] = np.random.normal(loc=a2, scale=sigma)\n",
        "\n",
        "    return data, states"
      ],
      "metadata": {
        "id": "nCW_PG0VLSUq"
      },
      "execution_count": 2,
      "outputs": []
    },
    {
      "cell_type": "code",
      "source": [
        "# Ініціалізуємо параметри\n",
        "P_k1, P_k2 = 0.5, 0.5\n",
        "a1, a2 = 1, 2\n",
        "sigma = 1\n",
        "n = 100\n",
        "\n",
        "# Генеруємо дані\n",
        "data, true_states = generate_data(n, P_k1, P_k2, a1, a2, sigma)"
      ],
      "metadata": {
        "id": "m9yhdEv7LTQY"
      },
      "execution_count": 3,
      "outputs": []
    },
    {
      "cell_type": "code",
      "source": [
        "# Функція ймовірності кроку\n",
        "def expectation_step(data, P_k1, P_k2, a1, a2, sigma):\n",
        "    pdf_state1 = stats.norm.pdf(data, loc=a1, scale=sigma)\n",
        "    pdf_state2 = stats.norm.pdf(data, loc=a2, scale=sigma)\n",
        "\n",
        "    # Віднормуємо ймовірності\n",
        "    norm = P_k1 * pdf_state1 + P_k2 * pdf_state2\n",
        "\n",
        "    # Обчислюємо ймовірності кожного стану для кожного спостереження\n",
        "    gamma_k1 = P_k1 * pdf_state1 / norm\n",
        "    gamma_k2 = P_k2 * pdf_state2 / norm\n",
        "\n",
        "    return gamma_k1, gamma_k2"
      ],
      "metadata": {
        "id": "bburNNUiLVai"
      },
      "execution_count": 4,
      "outputs": []
    },
    {
      "cell_type": "code",
      "source": [
        "#функція максимізації\n",
        "def maximization_step(data, gamma_k1, gamma_k2):\n",
        "    # Оцінка нових параметрів\n",
        "    P_k1 = np.mean(gamma_k1)\n",
        "    P_k2 = np.mean(gamma_k2)\n",
        "\n",
        "    a1 = np.sum(gamma_k1 * data) / np.sum(gamma_k1)\n",
        "    a2 = np.sum(gamma_k2 * data) / np.sum(gamma_k2)\n",
        "\n",
        "    sigma1 = np.sqrt(np.sum(gamma_k1 * (data - a1)**2) / np.sum(gamma_k1))\n",
        "    sigma2 = np.sqrt(np.sum(gamma_k2 * (data - a2)**2) / np.sum(gamma_k2))\n",
        "\n",
        "    # Обновлення параметрів\n",
        "    sigma = (sigma1 + sigma2) / 2\n",
        "\n",
        "    return P_k1, P_k2, a1, a2, sigma"
      ],
      "metadata": {
        "id": "jdKU3FDQLgHd"
      },
      "execution_count": 5,
      "outputs": []
    },
    {
      "cell_type": "code",
      "source": [
        "#Алгоритм самонавчання\n",
        "def self_learning_algorithm(data, P_k1, P_k2, a1, a2, sigma, tolerance=0.001, max_iterations=100):\n",
        "    for iteration in range(max_iterations):\n",
        "        # E-step\n",
        "        gamma_k1, gamma_k2 = expectation_step(data, P_k1, P_k2, a1, a2, sigma)\n",
        "\n",
        "        # M-step\n",
        "        P_k1_new, P_k2_new, a1_new, a2_new, sigma_new = maximization_step(data, gamma_k1, gamma_k2)\n",
        "\n",
        "        # Перевірка зупинки\n",
        "        if np.abs(P_k1_new - P_k1) < tolerance and np.abs(P_k2_new - P_k2) < tolerance \\\n",
        "                and np.abs(a1_new - a1) < tolerance and np.abs(a2_new - a2) < tolerance \\\n",
        "                and np.abs(sigma_new - sigma) < tolerance:\n",
        "            break\n",
        "\n",
        "        # Оновлення параметрів\n",
        "        P_k1, P_k2, a1, a2, sigma = P_k1_new, P_k2_new, a1_new, a2_new, sigma_new\n",
        "\n",
        "    return P_k1, P_k2, a1, a2, sigma\n"
      ],
      "metadata": {
        "id": "RjK2KUzwNKQP"
      },
      "execution_count": 6,
      "outputs": []
    },
    {
      "cell_type": "code",
      "source": [
        "learned_P_k1, learned_P_k2, learned_a1, learned_a2, learned_sigma = self_learning_algorithm(data, P_k1, P_k2, a1, a2, sigma)\n",
        "\n",
        "# Виводимо отримані результати\n",
        "print(\"Навчені параметри:\")\n",
        "print(\"P(k=1):\", learned_P_k1)\n",
        "print(\"P(k=2):\", learned_P_k2)\n",
        "print(\"a1:\", learned_a1)\n",
        "print(\"a2:\", learned_a2)\n",
        "print(\"Дисперсія:\", learned_sigma)"
      ],
      "metadata": {
        "colab": {
          "base_uri": "https://localhost:8080/"
        },
        "id": "AWoEzwvwNb7M",
        "outputId": "a3a7f6ec-9378-43c1-9e6e-dc8510090641"
      },
      "execution_count": 7,
      "outputs": [
        {
          "output_type": "stream",
          "name": "stdout",
          "text": [
            "Навчені параметри:\n",
            "P(k=1): 0.5901670112611836\n",
            "P(k=2): 0.40983298873881624\n",
            "a1: 1.0784820223931282\n",
            "a2: 2.116838335437074\n",
            "Дисперсія: 1.0893740273891197\n"
          ]
        }
      ]
    }
  ]
}