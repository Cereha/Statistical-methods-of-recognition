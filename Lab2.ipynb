{
  "nbformat": 4,
  "nbformat_minor": 0,
  "metadata": {
    "colab": {
      "provenance": [],
      "authorship_tag": "ABX9TyPcM6yEePnThoIxalf/y/2z",
      "include_colab_link": true
    },
    "kernelspec": {
      "name": "python3",
      "display_name": "Python 3"
    },
    "language_info": {
      "name": "python"
    }
  },
  "cells": [
    {
      "cell_type": "markdown",
      "metadata": {
        "id": "view-in-github",
        "colab_type": "text"
      },
      "source": [
        "<a href=\"https://colab.research.google.com/github/Cereha/Statistical-methods-of-recognition/blob/main/Lab2.ipynb\" target=\"_parent\"><img src=\"https://colab.research.google.com/assets/colab-badge.svg\" alt=\"Open In Colab\"/></a>"
      ]
    },
    {
      "cell_type": "code",
      "execution_count": 22,
      "metadata": {
        "id": "xm2wDw_46JxH"
      },
      "outputs": [],
      "source": [
        "import random"
      ]
    },
    {
      "cell_type": "code",
      "source": [
        "def gen_seq(len):\n",
        "  return [random.randint(0,1)\n",
        "  for _ in range(len)]\n",
        "\n",
        "\n",
        "def change_bits(seq):\n",
        "  return[1- bit if random.choice([True, False])\n",
        "  else bit for bit in seq]\n",
        "\n",
        "def optimal_strategy(X, Y):\n",
        "    n = len(X)\n",
        "    S = sum(X)\n",
        "\n",
        "    # Ініціалізація матриці dp\n",
        "    dp = [[0] * (S+1) for _ in range(n)]\n",
        "\n",
        "    # Перший рядок матриці dp\n",
        "    for j in range(S+1):\n",
        "        dp[0][j] = (X[0] - Y[0]) ** 2\n",
        "\n",
        "\n",
        "    for i in range(1, n):\n",
        "        for j in range(S+1):\n",
        "            dp[i][j] = float('inf')\n",
        "            # Розгляд варіантів збільшення та зменшення суми\n",
        "            if j - 1 >= 0:\n",
        "                dp[i][j] = min(dp[i][j], dp[i-1][j-1] + (X[i] - Y[i]) ** 2)\n",
        "            if j + 1 <= S:\n",
        "                dp[i][j] = min(dp[i][j], dp[i-1][j+1] + (X[i] - Y[i]) ** 2)\n",
        "\n",
        "    # Знаходження оптимального квадрату штрафу для суми всіх цифр\n",
        "    optimal_penalty = min(dp[n-1])\n",
        "\n",
        "    return optimal_penalty"
      ],
      "metadata": {
        "id": "Z8NgTsXH8l2K"
      },
      "execution_count": 23,
      "outputs": []
    },
    {
      "cell_type": "code",
      "source": [
        "a = int(input())\n",
        "\n",
        "seq = gen_seq(a)\n",
        "print(\"Оригінальна послідовність:\",seq)\n",
        "change_seq=change_bits(seq)\n",
        "print(\"Змінена послідовність:\", change_seq)\n",
        "\n",
        "res = optimal_strategy(change_seq,seq)\n",
        "print(\"Оптимальний квадрат штрафу:\", res)"
      ],
      "metadata": {
        "colab": {
          "base_uri": "https://localhost:8080/"
        },
        "id": "W1RSfLuO8nNd",
        "outputId": "febdb37b-25ab-44fd-b6e7-9d6ef709e47c"
      },
      "execution_count": 24,
      "outputs": [
        {
          "output_type": "stream",
          "name": "stdout",
          "text": [
            "15\n",
            "Оригінальна послідовність: [0, 0, 0, 0, 1, 1, 1, 1, 0, 1, 0, 1, 0, 1, 0]\n",
            "Змінена послідовність: [1, 0, 0, 1, 0, 0, 0, 1, 0, 0, 0, 0, 1, 1, 1]\n",
            "Оптимальний квадрат штрафу: 9\n"
          ]
        }
      ]
    },
    {
      "cell_type": "code",
      "source": [],
      "metadata": {
        "id": "jpzxAcIvApne"
      },
      "execution_count": null,
      "outputs": []
    }
  ]
}